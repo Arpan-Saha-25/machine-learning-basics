{
 "cells": [
  {
   "cell_type": "markdown",
   "metadata": {},
   "source": [
    "### 5/3/25 -> INTRO TO NUMPY"
   ]
  },
  {
   "cell_type": "code",
   "execution_count": 35,
   "metadata": {},
   "outputs": [],
   "source": [
    "import numpy as np"
   ]
  },
  {
   "cell_type": "code",
   "execution_count": 36,
   "metadata": {},
   "outputs": [
    {
     "name": "stdout",
     "output_type": "stream",
     "text": [
      "[1 2 3]\n"
     ]
    }
   ],
   "source": [
    "arr = np.array([1,2,3]) #1D\n",
    "print(arr)"
   ]
  },
  {
   "cell_type": "code",
   "execution_count": 37,
   "metadata": {},
   "outputs": [
    {
     "name": "stdout",
     "output_type": "stream",
     "text": [
      "[[1 2 3]\n",
      " [4 5 6]]\n"
     ]
    }
   ],
   "source": [
    "arr2 = np.array([[1,2,3],[4,5,6]])  #2D\n",
    "print(arr2)"
   ]
  },
  {
   "cell_type": "code",
   "execution_count": 38,
   "metadata": {},
   "outputs": [
    {
     "name": "stdout",
     "output_type": "stream",
     "text": [
      "[[[1 2 3]\n",
      "  [4 5 6]\n",
      "  [7 8 9]]]\n",
      "(1, 3, 3)\n",
      "3\n"
     ]
    }
   ],
   "source": [
    "arr3 = np.array([[[1,2,3],[4,5,6],[7,8,9]]])    # 3d\n",
    "print(arr3)\n",
    "print(arr3.shape)\n",
    "print(arr3.ndim)"
   ]
  },
  {
   "cell_type": "code",
   "execution_count": 39,
   "metadata": {},
   "outputs": [
    {
     "name": "stdout",
     "output_type": "stream",
     "text": [
      "1\n",
      "(3,)\n",
      "2\n",
      "(2, 3)\n",
      "3\n",
      "(1, 3, 3)\n"
     ]
    }
   ],
   "source": [
    "print(arr.ndim)\n",
    "print(arr.shape)\n",
    "\n",
    "print(arr2.ndim)\n",
    "print(arr2.shape)\n",
    "\n",
    "print(arr3.ndim)\n",
    "print(arr3.shape)"
   ]
  },
  {
   "cell_type": "code",
   "execution_count": 40,
   "metadata": {},
   "outputs": [
    {
     "name": "stdout",
     "output_type": "stream",
     "text": [
      "3\n",
      "6\n",
      "9\n"
     ]
    }
   ],
   "source": [
    "# To Find No. of elements\n",
    "print(arr.size)\n",
    "print(arr2.size)\n",
    "print(arr3.size)"
   ]
  },
  {
   "cell_type": "code",
   "execution_count": 41,
   "metadata": {},
   "outputs": [
    {
     "name": "stdout",
     "output_type": "stream",
     "text": [
      "int64\n"
     ]
    }
   ],
   "source": [
    "print(arr3.dtype)   # datatype"
   ]
  },
  {
   "cell_type": "code",
   "execution_count": 42,
   "metadata": {},
   "outputs": [
    {
     "name": "stdout",
     "output_type": "stream",
     "text": [
      "[1 2 3]\n",
      "int64\n",
      "8\n"
     ]
    }
   ],
   "source": [
    "print(arr)\n",
    "print(arr.dtype)\n",
    "print(arr.itemsize) # No. of bytes required by one element (64bits means 8 bytes)"
   ]
  },
  {
   "cell_type": "code",
   "execution_count": 43,
   "metadata": {},
   "outputs": [
    {
     "name": "stdout",
     "output_type": "stream",
     "text": [
      "[[1. 2.]\n",
      " [3. 4.]]\n",
      "float64\n",
      "\n",
      "arr6\n",
      " [[0. 0. 0.]\n",
      " [0. 0. 0.]]\n",
      "\n",
      "arr7\n",
      " [[1. 1. 1. 1.]\n",
      " [1. 1. 1. 1.]]\n"
     ]
    }
   ],
   "source": [
    "arr5 = np.array([[1,2],[3,4]], dtype='float')\n",
    "\n",
    "print(arr5)\n",
    "print(arr5.dtype)\n",
    "\n",
    "arr6 = np.zeros((2,3))      # array with 2x3 elements initialised with 0's\n",
    "print(\"\\narr6\\n\",arr6)\n",
    "\n",
    "arr7 = np.ones((2,4))       # array with 2x4 elements initialised with 1's\n",
    "print(\"\\narr7\\n\",arr7)"
   ]
  },
  {
   "cell_type": "code",
   "execution_count": 44,
   "metadata": {},
   "outputs": [
    {
     "name": "stdout",
     "output_type": "stream",
     "text": [
      "ARRAY8: \n",
      " [-100  -80  -60  -40  -20    0   20   40   60   80]\n",
      "\n",
      "SLICED ARRAY8:  [-60 -40 -20   0  20]\n",
      "\n",
      "REVERSED ARRAY8:  [  80   60   40   20    0  -20  -40  -60  -80 -100]\n"
     ]
    }
   ],
   "source": [
    "arr8 = np.arange(-100,100,20) # start,stop+1,skipValue\n",
    "\n",
    "print(\"ARRAY8: \\n\", arr8)\n",
    "print(\"\\nSLICED ARRAY8: \",arr8[2:7]) # upto 7-1\n",
    "print(\"\\nREVERSED ARRAY8: \",arr8[::-1])"
   ]
  },
  {
   "cell_type": "code",
   "execution_count": 45,
   "metadata": {},
   "outputs": [
    {
     "name": "stdout",
     "output_type": "stream",
     "text": [
      "marks:\n",
      " [[76 55 45]\n",
      " [65 78 87]\n",
      " [87 75 54]\n",
      " [54 53 67]]\n",
      "\n",
      "At [3,1] :\n",
      " 53\n",
      "\n",
      "Column:\n",
      " [[76 55]\n",
      " [65 78]\n",
      " [87 75]\n",
      " [54 53]]\n",
      "\n",
      "marks[1:3,1:3] :\n",
      " [[78 87]\n",
      " [75 54]]\n",
      "\n",
      "marks[2,:] :\n",
      " [87 75 54]\n"
     ]
    }
   ],
   "source": [
    "marks = np.array([[76,55,45],\n",
    "                  [65,78,87],\n",
    "                  [87,75,54],\n",
    "                  [54,53,67]])\n",
    "print(\"marks:\\n\",marks)\n",
    "print(\"\\nAt [3,1] :\\n\", marks[3,1])\n",
    "print(\"\\nColumn:\\n\",marks[:4,:2])\n",
    "print(\"\\nmarks[1:3,1:3] :\\n\",marks[1:3,1:3])\n",
    "print(\"\\nmarks[2,:] :\\n\",marks[2,:])"
   ]
  },
  {
   "cell_type": "code",
   "execution_count": 46,
   "metadata": {},
   "outputs": [],
   "source": [
    "arr_1 = np.array([[3,6],[4,2]])\n",
    "arr_2 = np.array([[10,20],[11,12]])"
   ]
  },
  {
   "cell_type": "code",
   "execution_count": 47,
   "metadata": {},
   "outputs": [
    {
     "name": "stdout",
     "output_type": "stream",
     "text": [
      "Operation addition:\n",
      " [[13 26]\n",
      " [15 14]]\n",
      "Operation substraction:\n",
      " [[ -7 -14]\n",
      " [ -7 -10]]\n",
      "Operation multiplication:\n",
      " [[ 30 120]\n",
      " [ 44  24]]\n",
      "Operation division:\n",
      " [[0.3        0.3       ]\n",
      " [0.36363636 0.16666667]]\n",
      "Operation matrix multiplication:\n",
      " [[ 96 132]\n",
      " [ 62 104]]\n",
      "expo:\n",
      " [[           59049 3656158440062976]\n",
      " [         4194304             4096]]\n"
     ]
    }
   ],
   "source": [
    "# addition\n",
    "print(\"Operation addition:\\n\",arr_1+arr_2)\n",
    "# substraction\n",
    "print(\"Operation substraction:\\n\",arr_1-arr_2)\n",
    "# multiplication\n",
    "print(\"Operation multiplication:\\n\",arr_1*arr_2)\n",
    "# division\n",
    "print(\"Operation division:\\n\",arr_1/arr_2)\n",
    "# matrix multiplication\n",
    "print(\"Operation matrix multiplication:\\n\",arr_1 @ arr_2)\n",
    "# expo\n",
    "print(\"expo:\\n\",arr_1**arr_2)"
   ]
  },
  {
   "cell_type": "code",
   "execution_count": 48,
   "metadata": {},
   "outputs": [
    {
     "name": "stdout",
     "output_type": "stream",
     "text": [
      "Original Matrix:\n",
      " [[76 55 45]\n",
      " [65 78 87]\n",
      " [87 75 54]\n",
      " [54 53 67]]\n",
      "\n",
      "Transposed Matrix with arr.transpose :\n",
      " [[76 65 87 54]\n",
      " [55 78 75 53]\n",
      " [45 87 54 67]]\n",
      "\n",
      "Transpose with arr.T :\n",
      " [[76 65 87 54]\n",
      " [55 78 75 53]\n",
      " [45 87 54 67]]\n"
     ]
    }
   ],
   "source": [
    "newMarks = marks.transpose()\n",
    "transpMarks = marks.T\n",
    "print(\"Original Matrix:\\n\",marks)\n",
    "print(\"\\nTransposed Matrix with arr.transpose :\\n\",newMarks)\n",
    "print(\"\\nTranspose with arr.T :\\n\", transpMarks)"
   ]
  },
  {
   "cell_type": "markdown",
   "metadata": {},
   "source": [
    "### Concept of axes\n",
    "```sh\n",
    "            ^\n",
    "            |       *axis 2\n",
    "            |     *\n",
    "            |   *\n",
    "            | *\n",
    "<-----------|-------------> axis 1\n",
    "           *|\n",
    "         *  |\n",
    "       *    |\n",
    "     *      |\n",
    "   *        |\n",
    "            axis 0\n",
    "```\n"
   ]
  },
  {
   "cell_type": "code",
   "execution_count": 49,
   "metadata": {},
   "outputs": [
    {
     "name": "stdout",
     "output_type": "stream",
     "text": [
      "Sorted marks array row-wise: \n",
      " [[45 55 76]\n",
      " [65 78 87]\n",
      " [54 75 87]\n",
      " [53 54 67]]\n"
     ]
    }
   ],
   "source": [
    "print(\"Sorted marks array row-wise: \\n\", np.sort(marks))"
   ]
  },
  {
   "cell_type": "code",
   "execution_count": 50,
   "metadata": {},
   "outputs": [
    {
     "name": "stdout",
     "output_type": "stream",
     "text": [
      "Sorted marks array column-wise: \n",
      " [[54 53 45]\n",
      " [65 55 54]\n",
      " [76 75 67]\n",
      " [87 78 87]]\n"
     ]
    }
   ],
   "source": [
    "print(\"Sorted marks array column-wise: \\n\", np.sort(marks,axis=0))"
   ]
  },
  {
   "cell_type": "code",
   "execution_count": 51,
   "metadata": {},
   "outputs": [
    {
     "name": "stdout",
     "output_type": "stream",
     "text": [
      "\n",
      " [[3 6]\n",
      " [4 2]]\n",
      "\n",
      " [[10 20]\n",
      " [11 12]]\n",
      "\n",
      "row-wise:\n",
      " [[ 3  6]\n",
      " [ 4  2]\n",
      " [10 20]\n",
      " [11 12]]\n",
      "\n",
      "col-wise:\n",
      " [[ 3  6 10 20]\n",
      " [ 4  2 11 12]]\n"
     ]
    }
   ],
   "source": [
    "print(\"\\n\",arr_1)\n",
    "print(\"\\n\",arr_2)\n",
    "print(\"\\nrow-wise:\\n\",np.concat([arr_1,arr_2]))         # axis 0 means row (default)\n",
    "print(\"\\ncol-wise:\\n\",np.concat((arr_1,arr_2),axis=1))  # axis = 1 means column"
   ]
  },
  {
   "cell_type": "markdown",
   "metadata": {},
   "source": [
    "### use np.full() to create a constant matrix:"
   ]
  },
  {
   "cell_type": "code",
   "execution_count": 52,
   "metadata": {},
   "outputs": [
    {
     "data": {
      "text/plain": [
       "array([[7, 7, 7],\n",
       "       [7, 7, 7],\n",
       "       [7, 7, 7]])"
      ]
     },
     "execution_count": 52,
     "metadata": {},
     "output_type": "execute_result"
    }
   ],
   "source": [
    "matrix = np.full((3, 3), 7)     # 3x3 matrix with all values as 7\n",
    "matrix"
   ]
  }
 ],
 "metadata": {
  "kernelspec": {
   "display_name": "Python 3",
   "language": "python",
   "name": "python3"
  },
  "language_info": {
   "codemirror_mode": {
    "name": "ipython",
    "version": 3
   },
   "file_extension": ".py",
   "mimetype": "text/x-python",
   "name": "python",
   "nbconvert_exporter": "python",
   "pygments_lexer": "ipython3",
   "version": "3.12.0"
  }
 },
 "nbformat": 4,
 "nbformat_minor": 2
}
