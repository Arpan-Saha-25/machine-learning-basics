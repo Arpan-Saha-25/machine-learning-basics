{
 "cells": [
  {
   "cell_type": "code",
   "execution_count": 1,
   "metadata": {},
   "outputs": [],
   "source": [
    "import pandas as pd"
   ]
  },
  {
   "cell_type": "code",
   "execution_count": 2,
   "metadata": {},
   "outputs": [],
   "source": [
    "forestArea = {\n",
    " 'Assam' :pd.Series([78438, 2797,\n",
    "10192, 15116], index = ['GeoArea', 'VeryDense',\n",
    "'ModeratelyDense', 'OpenForest']),\n",
    " 'Kerala' :pd.Series([ 38852, 1663,\n",
    "9407, 9251], index = ['GeoArea' ,'VeryDense',\n",
    "'ModeratelyDense', 'OpenForest']),\n",
    " 'Delhi' :pd.Series([1483, 6.72, 56.24,\n",
    "129.45], index = ['GeoArea', 'VeryDense',\n",
    "'ModeratelyDense', 'OpenForest'])}\n",
    "forest_Area_dataframe = pd.DataFrame(forestArea)\n"
   ]
  },
  {
   "cell_type": "code",
   "execution_count": 3,
   "metadata": {},
   "outputs": [
    {
     "name": "stdout",
     "output_type": "stream",
     "text": [
      "Index(['GeoArea', 'VeryDense', 'ModeratelyDense', 'OpenForest'], dtype='object')\n",
      "Assam       int64\n",
      "Kerala      int64\n",
      "Delhi     float64\n",
      "dtype: object\n",
      "[[7.8438e+04 3.8852e+04 1.4830e+03]\n",
      " [2.7970e+03 1.6630e+03 6.7200e+00]\n",
      " [1.0192e+04 9.4070e+03 5.6240e+01]\n",
      " [1.5116e+04 9.2510e+03 1.2945e+02]]\n",
      "Index(['Assam', 'Kerala', 'Delhi'], dtype='object')\n"
     ]
    }
   ],
   "source": [
    "print(forest_Area_dataframe.index)\n",
    "print(forest_Area_dataframe.dtypes)\n",
    "print(forest_Area_dataframe.values)\n",
    "print(forest_Area_dataframe.columns)"
   ]
  },
  {
   "cell_type": "code",
   "execution_count": 4,
   "metadata": {},
   "outputs": [
    {
     "data": {
      "text/plain": [
       "(4, 3)"
      ]
     },
     "execution_count": 4,
     "metadata": {},
     "output_type": "execute_result"
    }
   ],
   "source": [
    "forest_Area_dataframe.shape"
   ]
  },
  {
   "cell_type": "code",
   "execution_count": 5,
   "metadata": {},
   "outputs": [
    {
     "data": {
      "text/plain": [
       "12"
      ]
     },
     "execution_count": 5,
     "metadata": {},
     "output_type": "execute_result"
    }
   ],
   "source": [
    "forest_Area_dataframe.size"
   ]
  },
  {
   "cell_type": "code",
   "execution_count": 6,
   "metadata": {},
   "outputs": [
    {
     "data": {
      "text/html": [
       "<div>\n",
       "<style scoped>\n",
       "    .dataframe tbody tr th:only-of-type {\n",
       "        vertical-align: middle;\n",
       "    }\n",
       "\n",
       "    .dataframe tbody tr th {\n",
       "        vertical-align: top;\n",
       "    }\n",
       "\n",
       "    .dataframe thead th {\n",
       "        text-align: right;\n",
       "    }\n",
       "</style>\n",
       "<table border=\"1\" class=\"dataframe\">\n",
       "  <thead>\n",
       "    <tr style=\"text-align: right;\">\n",
       "      <th></th>\n",
       "      <th>Assam</th>\n",
       "      <th>Kerala</th>\n",
       "      <th>Delhi</th>\n",
       "    </tr>\n",
       "  </thead>\n",
       "  <tbody>\n",
       "    <tr>\n",
       "      <th>GeoArea</th>\n",
       "      <td>78438</td>\n",
       "      <td>38852</td>\n",
       "      <td>1483.00</td>\n",
       "    </tr>\n",
       "    <tr>\n",
       "      <th>VeryDense</th>\n",
       "      <td>2797</td>\n",
       "      <td>1663</td>\n",
       "      <td>6.72</td>\n",
       "    </tr>\n",
       "    <tr>\n",
       "      <th>ModeratelyDense</th>\n",
       "      <td>10192</td>\n",
       "      <td>9407</td>\n",
       "      <td>56.24</td>\n",
       "    </tr>\n",
       "    <tr>\n",
       "      <th>OpenForest</th>\n",
       "      <td>15116</td>\n",
       "      <td>9251</td>\n",
       "      <td>129.45</td>\n",
       "    </tr>\n",
       "  </tbody>\n",
       "</table>\n",
       "</div>"
      ],
      "text/plain": [
       "                 Assam  Kerala    Delhi\n",
       "GeoArea          78438   38852  1483.00\n",
       "VeryDense         2797    1663     6.72\n",
       "ModeratelyDense  10192    9407    56.24\n",
       "OpenForest       15116    9251   129.45"
      ]
     },
     "execution_count": 6,
     "metadata": {},
     "output_type": "execute_result"
    }
   ],
   "source": [
    "forest_Area_dataframe.head()"
   ]
  },
  {
   "cell_type": "code",
   "execution_count": 7,
   "metadata": {},
   "outputs": [
    {
     "data": {
      "text/html": [
       "<div>\n",
       "<style scoped>\n",
       "    .dataframe tbody tr th:only-of-type {\n",
       "        vertical-align: middle;\n",
       "    }\n",
       "\n",
       "    .dataframe tbody tr th {\n",
       "        vertical-align: top;\n",
       "    }\n",
       "\n",
       "    .dataframe thead th {\n",
       "        text-align: right;\n",
       "    }\n",
       "</style>\n",
       "<table border=\"1\" class=\"dataframe\">\n",
       "  <thead>\n",
       "    <tr style=\"text-align: right;\">\n",
       "      <th></th>\n",
       "      <th>Assam</th>\n",
       "      <th>Kerala</th>\n",
       "      <th>Delhi</th>\n",
       "    </tr>\n",
       "  </thead>\n",
       "  <tbody>\n",
       "    <tr>\n",
       "      <th>GeoArea</th>\n",
       "      <td>78438</td>\n",
       "      <td>38852</td>\n",
       "      <td>1483.00</td>\n",
       "    </tr>\n",
       "    <tr>\n",
       "      <th>VeryDense</th>\n",
       "      <td>2797</td>\n",
       "      <td>1663</td>\n",
       "      <td>6.72</td>\n",
       "    </tr>\n",
       "    <tr>\n",
       "      <th>ModeratelyDense</th>\n",
       "      <td>10192</td>\n",
       "      <td>9407</td>\n",
       "      <td>56.24</td>\n",
       "    </tr>\n",
       "  </tbody>\n",
       "</table>\n",
       "</div>"
      ],
      "text/plain": [
       "                 Assam  Kerala    Delhi\n",
       "GeoArea          78438   38852  1483.00\n",
       "VeryDense         2797    1663     6.72\n",
       "ModeratelyDense  10192    9407    56.24"
      ]
     },
     "execution_count": 7,
     "metadata": {},
     "output_type": "execute_result"
    }
   ],
   "source": [
    "forest_Area_dataframe.head(3)"
   ]
  },
  {
   "cell_type": "code",
   "execution_count": 8,
   "metadata": {},
   "outputs": [
    {
     "data": {
      "text/html": [
       "<div>\n",
       "<style scoped>\n",
       "    .dataframe tbody tr th:only-of-type {\n",
       "        vertical-align: middle;\n",
       "    }\n",
       "\n",
       "    .dataframe tbody tr th {\n",
       "        vertical-align: top;\n",
       "    }\n",
       "\n",
       "    .dataframe thead th {\n",
       "        text-align: right;\n",
       "    }\n",
       "</style>\n",
       "<table border=\"1\" class=\"dataframe\">\n",
       "  <thead>\n",
       "    <tr style=\"text-align: right;\">\n",
       "      <th></th>\n",
       "      <th>Assam</th>\n",
       "      <th>Kerala</th>\n",
       "      <th>Delhi</th>\n",
       "    </tr>\n",
       "  </thead>\n",
       "  <tbody>\n",
       "    <tr>\n",
       "      <th>ModeratelyDense</th>\n",
       "      <td>10192</td>\n",
       "      <td>9407</td>\n",
       "      <td>56.24</td>\n",
       "    </tr>\n",
       "    <tr>\n",
       "      <th>OpenForest</th>\n",
       "      <td>15116</td>\n",
       "      <td>9251</td>\n",
       "      <td>129.45</td>\n",
       "    </tr>\n",
       "  </tbody>\n",
       "</table>\n",
       "</div>"
      ],
      "text/plain": [
       "                 Assam  Kerala   Delhi\n",
       "ModeratelyDense  10192    9407   56.24\n",
       "OpenForest       15116    9251  129.45"
      ]
     },
     "execution_count": 8,
     "metadata": {},
     "output_type": "execute_result"
    }
   ],
   "source": [
    "forest_Area_dataframe.tail(2)"
   ]
  },
  {
   "cell_type": "code",
   "execution_count": null,
   "metadata": {},
   "outputs": [],
   "source": []
  }
 ],
 "metadata": {
  "kernelspec": {
   "display_name": "Python 3",
   "language": "python",
   "name": "python3"
  },
  "language_info": {
   "codemirror_mode": {
    "name": "ipython",
    "version": 3
   },
   "file_extension": ".py",
   "mimetype": "text/x-python",
   "name": "python",
   "nbconvert_exporter": "python",
   "pygments_lexer": "ipython3",
   "version": "3.12.0"
  }
 },
 "nbformat": 4,
 "nbformat_minor": 2
}
