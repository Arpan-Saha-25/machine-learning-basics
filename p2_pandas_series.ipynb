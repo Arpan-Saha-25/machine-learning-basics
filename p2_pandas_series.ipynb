{
 "cells": [
  {
   "cell_type": "markdown",
   "metadata": {},
   "source": [
    "# Pandas introduction\n",
    "```sh\n",
    "pip install pandas \n",
    "```"
   ]
  },
  {
   "cell_type": "code",
   "execution_count": 1,
   "metadata": {},
   "outputs": [],
   "source": [
    "import pandas as pd "
   ]
  },
  {
   "cell_type": "code",
   "execution_count": 2,
   "metadata": {},
   "outputs": [
    {
     "data": {
      "text/plain": [
       "0    1\n",
       "1    2\n",
       "2    3\n",
       "3    4\n",
       "4    5\n",
       "dtype: int64"
      ]
     },
     "execution_count": 2,
     "metadata": {},
     "output_type": "execute_result"
    }
   ],
   "source": [
    "series1 = pd.Series([1,2,3,4,5])\n",
    "series1     # index and value at that index"
   ]
  },
  {
   "cell_type": "code",
   "execution_count": 3,
   "metadata": {},
   "outputs": [
    {
     "data": {
      "text/plain": [
       "0      Sam\n",
       "1     Elon\n",
       "2    Arpan\n",
       "dtype: object"
      ]
     },
     "execution_count": 3,
     "metadata": {},
     "output_type": "execute_result"
    }
   ],
   "source": [
    "s2 = pd.Series([\"Sam\",\"Elon\",\"Arpan\"])  # Zero based indexing\n",
    "s2"
   ]
  },
  {
   "cell_type": "code",
   "execution_count": 4,
   "metadata": {},
   "outputs": [
    {
     "data": {
      "text/plain": [
       "1      Ram\n",
       "2    Shyam\n",
       "3    Arpan\n",
       "dtype: object"
      ]
     },
     "execution_count": 4,
     "metadata": {},
     "output_type": "execute_result"
    }
   ],
   "source": [
    "s3 = pd.Series([\"Ram\",\"Shyam\",\"Arpan\"],index=[1,2,3]) # Choice based Indexing\n",
    "s3"
   ]
  },
  {
   "cell_type": "code",
   "execution_count": 5,
   "metadata": {},
   "outputs": [
    {
     "data": {
      "text/plain": [
       "March      Ram\n",
       "April    Shyam\n",
       "May      Arpan\n",
       "dtype: object"
      ]
     },
     "execution_count": 5,
     "metadata": {},
     "output_type": "execute_result"
    }
   ],
   "source": [
    "s4 = pd.Series([\"Ram\",\"Shyam\",\"Arpan\"],index=[\"March\",\"April\",\"May\"])\n",
    "s4"
   ]
  },
  {
   "cell_type": "code",
   "execution_count": 6,
   "metadata": {},
   "outputs": [
    {
     "data": {
      "text/plain": [
       "March      Ram\n",
       "April    Shyam\n",
       "5        Arpan\n",
       "dtype: object"
      ]
     },
     "execution_count": 6,
     "metadata": {},
     "output_type": "execute_result"
    }
   ],
   "source": [
    "s5 = pd.Series([\"Ram\",\"Shyam\",\"Arpan\"],index=[\"March\",\"April\",5])\n",
    "s5"
   ]
  },
  {
   "cell_type": "code",
   "execution_count": 7,
   "metadata": {},
   "outputs": [
    {
     "data": {
      "text/plain": [
       "{'India': 'New Delhi',\n",
       " 'Sri Lanka': 'Columbo',\n",
       " 'Bangladesh': 'Dhaka',\n",
       " 'Japan': 'Tokyo',\n",
       " 'USA': 'Washington DC'}"
      ]
     },
     "execution_count": 7,
     "metadata": {},
     "output_type": "execute_result"
    }
   ],
   "source": [
    "dict1 = { \n",
    "    \"India\" : \"New Delhi\", \n",
    "    \"Sri Lanka\" : \"Columbo\", \n",
    "    \"Bangladesh\" : \"Dhaka\" , \n",
    "    \"Japan\" : \"Tokyo\", \n",
    "    \"USA\": \"Washington DC\"\n",
    "}\n",
    "dict1"
   ]
  },
  {
   "cell_type": "code",
   "execution_count": 8,
   "metadata": {},
   "outputs": [
    {
     "data": {
      "text/plain": [
       "0    <class 'dict'>\n",
       "dtype: object"
      ]
     },
     "execution_count": 8,
     "metadata": {},
     "output_type": "execute_result"
    }
   ],
   "source": [
    "s7 = pd.Series(dict)\n",
    "s7"
   ]
  },
  {
   "cell_type": "markdown",
   "metadata": {},
   "source": [
    "## In pandas, we have \n",
    "- positional indexing (Starts from Zero )  \n",
    "- labelled indexing (Done by User)\n"
   ]
  },
  {
   "cell_type": "code",
   "execution_count": 28,
   "metadata": {},
   "outputs": [
    {
     "name": "stdout",
     "output_type": "stream",
     "text": [
      "s8 series :\n",
      " Feb      2\n",
      "Mar      3\n",
      "April    4\n",
      "dtype: int64\n",
      "\n",
      "Value at s8.April :  4\n",
      "<bound method Series.__getitem__ of Feb      2\n",
      "Mar      3\n",
      "April    4\n",
      "dtype: int64>\n"
     ]
    }
   ],
   "source": [
    "s8 = pd.Series([2,3,4], index=[\"Feb\",\"Mar\",\"April\"])\n",
    "print(\"s8 series :\\n\", s8)\n",
    "print(\"\\nValue at s8.April : \", s8['April'])\n",
    "print(s8.__getitem__)\n"
   ]
  },
  {
   "cell_type": "code",
   "execution_count": 29,
   "metadata": {},
   "outputs": [
    {
     "name": "stdout",
     "output_type": "stream",
     "text": [
      "1      Ram\n",
      "2    Shyam\n",
      "3    Arpan\n",
      "dtype: object\n",
      "\n",
      "s3[1:3]:\n",
      " 2    Shyam\n",
      "3    Arpan\n",
      "dtype: object\n"
     ]
    }
   ],
   "source": [
    "print(s3)\n",
    "print(\"\\ns3[1:3]:\\n\",s3[1:3])"
   ]
  },
  {
   "cell_type": "markdown",
   "metadata": {},
   "source": [
    "## Slicing"
   ]
  },
  {
   "cell_type": "code",
   "execution_count": 11,
   "metadata": {},
   "outputs": [
    {
     "name": "stdout",
     "output_type": "stream",
     "text": [
      "India         New Delhi\n",
      "USA       Washington DC\n",
      "UK               London\n",
      "France            Paris\n",
      "dtype: object\n",
      "\n",
      "Positional Access:\n",
      " USA       Washington DC\n",
      "UK               London\n",
      "France            Paris\n",
      "dtype: object\n",
      "\n",
      "\n",
      "Labelled Access:\n",
      " USA       Washington DC\n",
      "UK               London\n",
      "France            Paris\n",
      "dtype: object\n"
     ]
    }
   ],
   "source": [
    "s9 = pd.Series([\"New Delhi\", \"Washington DC\", \"London\", \"Paris\"],index=[\"India\",\"USA\",\"UK\",\"France\"])\n",
    "print(s9)\n",
    "print(\"\\nPositional Access:\\n\",s9[1:4])  # 1 to 3 (4-1)\n",
    "print()\n",
    "print(\"\\nLabelled Access:\\n\",s9[\"USA\":\"France\"])"
   ]
  },
  {
   "cell_type": "code",
   "execution_count": 12,
   "metadata": {},
   "outputs": [
    {
     "data": {
      "text/plain": [
       "France            Paris\n",
       "UK               London\n",
       "USA       Washington DC\n",
       "India         New Delhi\n",
       "dtype: object"
      ]
     },
     "execution_count": 12,
     "metadata": {},
     "output_type": "execute_result"
    }
   ],
   "source": [
    "s9[::-1] # reverses the series"
   ]
  },
  {
   "cell_type": "code",
   "execution_count": 13,
   "metadata": {},
   "outputs": [
    {
     "name": "stdout",
     "output_type": "stream",
     "text": [
      "0    10\n",
      "1    12\n",
      "2    14\n",
      "3    16\n",
      "4    18\n",
      "dtype: int64\n",
      "a    10\n",
      "b    12\n",
      "c    14\n",
      "d    16\n",
      "e    18\n",
      "dtype: int64\n"
     ]
    }
   ],
   "source": [
    "import numpy as np\n",
    "series = pd.Series(np.arange(10,20,2))\n",
    "print(series)\n",
    "series11 = pd.Series(np.arange(10,20,2),index=[\"a\",\"b\",\"c\",\"d\",\"e\"])\n",
    "print(series11)"
   ]
  },
  {
   "cell_type": "code",
   "execution_count": 14,
   "metadata": {},
   "outputs": [
    {
     "data": {
      "text/plain": [
       "20    10\n",
       "22    12\n",
       "24    14\n",
       "26    16\n",
       "28    18\n",
       "dtype: int64"
      ]
     },
     "execution_count": 14,
     "metadata": {},
     "output_type": "execute_result"
    }
   ],
   "source": [
    "s10 = pd.Series(np.arange(10,20,2), index=np.arange(20,30,2))\n",
    "s10"
   ]
  },
  {
   "cell_type": "code",
   "execution_count": 15,
   "metadata": {},
   "outputs": [
    {
     "name": "stdout",
     "output_type": "stream",
     "text": [
      "0    10\n",
      "1    12\n",
      "2    14\n",
      "3    16\n",
      "4    18\n",
      "dtype: int64\n",
      "0     10\n",
      "1    350\n",
      "2    350\n",
      "3     16\n",
      "4     18\n",
      "dtype: int64\n"
     ]
    }
   ],
   "source": [
    "print(series)\n",
    "series[1:3] = 350\n",
    "print(series)"
   ]
  },
  {
   "cell_type": "code",
   "execution_count": 16,
   "metadata": {},
   "outputs": [
    {
     "name": "stdout",
     "output_type": "stream",
     "text": [
      "0     10\n",
      "1    350\n",
      "2    350\n",
      "3     16\n",
      "4     18\n",
      "Name: capitals, dtype: int64\n"
     ]
    },
    {
     "data": {
      "text/plain": [
       "India             New Delhi\n",
       "Sri Lanka           Columbo\n",
       "Bangladesh            Dhaka\n",
       "Japan                 Tokyo\n",
       "USA           Washington DC\n",
       "Name: capitals, dtype: object"
      ]
     },
     "execution_count": 16,
     "metadata": {},
     "output_type": "execute_result"
    }
   ],
   "source": [
    "series.name = \"capitals\" \n",
    "print(series)\n",
    "\n",
    "newDict = pd.Series(dict1, name=\"capitals\")\n",
    "newDict"
   ]
  },
  {
   "cell_type": "code",
   "execution_count": 17,
   "metadata": {},
   "outputs": [
    {
     "name": "stdout",
     "output_type": "stream",
     "text": [
      "['New Delhi' 'Columbo' 'Dhaka' 'Tokyo' 'Washington DC']\n",
      "False\n",
      "Series([], dtype: object)\n",
      "True\n"
     ]
    }
   ],
   "source": [
    "newestDict = pd.Series(dict1)\n",
    "newestDict.index.name = \"country\"\n",
    "print(newestDict.values)\n",
    "print(newestDict.empty)     # false\n",
    "\n",
    "newestDict[\"Pakistan\"] =  \"\"\n",
    "newestDict[\"Afghanistan\"] =  \"\"\n",
    "newestDict2 = pd.Series()\n",
    "print(newestDict2)\n",
    "print(newestDict2.empty)    # true\n"
   ]
  },
  {
   "cell_type": "code",
   "execution_count": 18,
   "metadata": {},
   "outputs": [
    {
     "name": "stdout",
     "output_type": "stream",
     "text": [
      "0    10\n",
      "1    11\n",
      "2    12\n",
      "3    13\n",
      "4    14\n",
      "5    15\n",
      "6    16\n",
      "7    17\n",
      "8    18\n",
      "9    19\n",
      "dtype: int64\n",
      "0    10\n",
      "1    11\n",
      "2    12\n",
      "3    13\n",
      "4    14\n",
      "dtype: int64\n",
      "0    10\n",
      "1    11\n",
      "2    12\n",
      "3    13\n",
      "4    14\n",
      "5    15\n",
      "6    16\n",
      "7    17\n",
      "8    18\n",
      "9    19\n",
      "dtype: int64\n"
     ]
    }
   ],
   "source": [
    "s11 = pd.Series(np.arange(10,20,1))\n",
    "print(s11)\n",
    "print(s11.head())   # first 5 rows\n",
    "print(s11.head(10)) # first 10 rows"
   ]
  },
  {
   "cell_type": "code",
   "execution_count": 19,
   "metadata": {},
   "outputs": [
    {
     "name": "stdout",
     "output_type": "stream",
     "text": [
      "10\n",
      "\n",
      "last 5 values : \n",
      " 5    15\n",
      "6    16\n",
      "7    17\n",
      "8    18\n",
      "9    19\n",
      "dtype: int64\n"
     ]
    }
   ],
   "source": [
    "print(s11.count())      # Total elements\n",
    "print(\"\\nlast 5 values : \\n\", s11.tail())"
   ]
  },
  {
   "cell_type": "code",
   "execution_count": 20,
   "metadata": {},
   "outputs": [
    {
     "name": "stdout",
     "output_type": "stream",
     "text": [
      "3\n",
      "3\n"
     ]
    }
   ],
   "source": [
    "new = pd.Series([10,'',20])\n",
    "print(new.count())  # no. of element\n",
    "print(new.size)     # no. of element"
   ]
  },
  {
   "cell_type": "code",
   "execution_count": 21,
   "metadata": {},
   "outputs": [
    {
     "name": "stdout",
     "output_type": "stream",
     "text": [
      "a    1\n",
      "b    2\n",
      "c    3\n",
      "d    4\n",
      "e    5\n",
      "dtype: int64\n",
      "z    10\n",
      "v    20\n",
      "a    -3\n",
      "c    -4\n",
      "e    -5\n",
      "dtype: int64\n",
      "a   -2.0\n",
      "b    NaN\n",
      "c   -1.0\n",
      "d    NaN\n",
      "e    0.0\n",
      "v    NaN\n",
      "z    NaN\n",
      "dtype: float64\n"
     ]
    }
   ],
   "source": [
    "s12 = pd.Series([1,2,3,4,5],index=[\"a\",\"b\",\"c\",\"d\",\"e\"])\n",
    "s13 = pd.Series([10,20,-3,-4,-5],index=[\"z\",\"v\",\"a\",\"c\",\"e\"])\n",
    "print(s12)\n",
    "print(s13)\n",
    "s14 = s12 + s13\n",
    "print(s14)"
   ]
  },
  {
   "cell_type": "code",
   "execution_count": 22,
   "metadata": {},
   "outputs": [
    {
     "name": "stdout",
     "output_type": "stream",
     "text": [
      "0    1.0\n",
      "1    NaN\n",
      "2    2.0\n",
      "3    NaN\n",
      "4    3.0\n",
      "dtype: float64\n",
      "0    1.0\n",
      "2    2.0\n",
      "4    3.0\n",
      "dtype: float64\n"
     ]
    }
   ],
   "source": [
    "s = pd.Series([1, np.nan, 2, None, 3])\n",
    "clean_s = s.dropna()        # removes nan values \n",
    "print(s)\n",
    "print(clean_s)"
   ]
  },
  {
   "cell_type": "code",
   "execution_count": 23,
   "metadata": {},
   "outputs": [
    {
     "name": "stdout",
     "output_type": "stream",
     "text": [
      "Series([], dtype: object)\n"
     ]
    },
    {
     "data": {
      "text/plain": [
       "True"
      ]
     },
     "execution_count": 23,
     "metadata": {},
     "output_type": "execute_result"
    }
   ],
   "source": [
    "s13 = pd.Series()\n",
    "print(s13)\n",
    "s13.empty"
   ]
  },
  {
   "cell_type": "code",
   "execution_count": 24,
   "metadata": {},
   "outputs": [
    {
     "name": "stdout",
     "output_type": "stream",
     "text": [
      "0    False\n",
      "1     True\n",
      "2    False\n",
      "dtype: bool\n",
      "\n",
      " 0    10.0\n",
      "1     0.0\n",
      "2    30.0\n",
      "dtype: float64\n"
     ]
    }
   ],
   "source": [
    "data = pd.Series([10,np.nan,30])\n",
    "\n",
    "print(data.isnull())        #identify missing values\n",
    "print(\"\\n\", data.fillna(0)) # fills missing values with 0"
   ]
  }
 ],
 "metadata": {
  "kernelspec": {
   "display_name": "Python 3",
   "language": "python",
   "name": "python3"
  },
  "language_info": {
   "codemirror_mode": {
    "name": "ipython",
    "version": 3
   },
   "file_extension": ".py",
   "mimetype": "text/x-python",
   "name": "python",
   "nbconvert_exporter": "python",
   "pygments_lexer": "ipython3",
   "version": "3.12.0"
  }
 },
 "nbformat": 4,
 "nbformat_minor": 2
}
