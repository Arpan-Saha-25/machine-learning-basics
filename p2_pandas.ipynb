{
 "cells": [
  {
   "cell_type": "markdown",
   "metadata": {},
   "source": [
    "# Pandas introduction\n",
    "```sh\n",
    "pip install pandas \n",
    "```"
   ]
  },
  {
   "cell_type": "code",
   "execution_count": 1,
   "metadata": {},
   "outputs": [],
   "source": [
    "import pandas as pd "
   ]
  },
  {
   "cell_type": "code",
   "execution_count": 2,
   "metadata": {},
   "outputs": [
    {
     "data": {
      "text/plain": [
       "0    1\n",
       "1    2\n",
       "2    3\n",
       "3    4\n",
       "4    5\n",
       "dtype: int64"
      ]
     },
     "execution_count": 2,
     "metadata": {},
     "output_type": "execute_result"
    }
   ],
   "source": [
    "series1 = pd.Series([1,2,3,4,5])\n",
    "series1     # index and value at that index"
   ]
  },
  {
   "cell_type": "code",
   "execution_count": 3,
   "metadata": {},
   "outputs": [
    {
     "data": {
      "text/plain": [
       "0      Sam\n",
       "1     Elon\n",
       "2    Arpan\n",
       "dtype: object"
      ]
     },
     "execution_count": 3,
     "metadata": {},
     "output_type": "execute_result"
    }
   ],
   "source": [
    "s2 = pd.Series([\"Sam\",\"Elon\",\"Arpan\"])  # Zero based indexing\n",
    "s2"
   ]
  },
  {
   "cell_type": "code",
   "execution_count": 4,
   "metadata": {},
   "outputs": [
    {
     "data": {
      "text/plain": [
       "1      Ram\n",
       "2    Shyam\n",
       "3    Arpan\n",
       "dtype: object"
      ]
     },
     "execution_count": 4,
     "metadata": {},
     "output_type": "execute_result"
    }
   ],
   "source": [
    "s3 = pd.Series([\"Ram\",\"Shyam\",\"Arpan\"],index=[1,2,3]) # Choice based Indexing\n",
    "s3"
   ]
  },
  {
   "cell_type": "code",
   "execution_count": 5,
   "metadata": {},
   "outputs": [
    {
     "data": {
      "text/plain": [
       "March      Ram\n",
       "April    Shyam\n",
       "May      Arpan\n",
       "dtype: object"
      ]
     },
     "execution_count": 5,
     "metadata": {},
     "output_type": "execute_result"
    }
   ],
   "source": [
    "s4 = pd.Series([\"Ram\",\"Shyam\",\"Arpan\"],index=[\"March\",\"April\",\"May\"])\n",
    "s4"
   ]
  },
  {
   "cell_type": "code",
   "execution_count": 6,
   "metadata": {},
   "outputs": [
    {
     "data": {
      "text/plain": [
       "March      Ram\n",
       "April    Shyam\n",
       "5        Arpan\n",
       "dtype: object"
      ]
     },
     "execution_count": 6,
     "metadata": {},
     "output_type": "execute_result"
    }
   ],
   "source": [
    "s5 = pd.Series([\"Ram\",\"Shyam\",\"Arpan\"],index=[\"March\",\"April\",5])\n",
    "s5"
   ]
  },
  {
   "cell_type": "code",
   "execution_count": 7,
   "metadata": {},
   "outputs": [
    {
     "data": {
      "text/plain": [
       "{'India': 'New Delhi',\n",
       " 'Sri Lanka': 'Columbo',\n",
       " 'Bangladesh': 'Dhaka',\n",
       " 'Japan': 'Tokyo',\n",
       " 'USA': 'Washington DC'}"
      ]
     },
     "execution_count": 7,
     "metadata": {},
     "output_type": "execute_result"
    }
   ],
   "source": [
    "dict1 = { \"India\" : \"New Delhi\", \"Sri Lanka\" : \"Columbo\", \"Bangladesh\" : \"Dhaka\" , \"Japan\" : \"Tokyo\", \"USA\": \"Washington DC\"}\n",
    "dict1"
   ]
  },
  {
   "cell_type": "code",
   "execution_count": 8,
   "metadata": {},
   "outputs": [
    {
     "data": {
      "text/plain": [
       "0    <class 'dict'>\n",
       "dtype: object"
      ]
     },
     "execution_count": 8,
     "metadata": {},
     "output_type": "execute_result"
    }
   ],
   "source": [
    "s7 = pd.Series(dict)\n",
    "s7"
   ]
  },
  {
   "cell_type": "markdown",
   "metadata": {},
   "source": [
    "## In pandas, we have \n",
    "- positional indexing (Starts from Zero )  \n",
    "- labelled indexing (Done by User)\n"
   ]
  },
  {
   "cell_type": "code",
   "execution_count": 9,
   "metadata": {},
   "outputs": [
    {
     "name": "stdout",
     "output_type": "stream",
     "text": [
      "\n",
      "s8 series :\n",
      " Feb      2\n",
      "Mar      3\n",
      "April    4\n",
      "dtype: int64\n",
      "\n",
      "Value at s8.April :  4\n"
     ]
    },
    {
     "data": {
      "text/plain": [
       "<bound method Series.__getitem__ of Feb      2\n",
       "Mar      3\n",
       "April    4\n",
       "dtype: int64>"
      ]
     },
     "execution_count": 9,
     "metadata": {},
     "output_type": "execute_result"
    }
   ],
   "source": [
    "s8 = pd.Series([2,3,4], index=[\"Feb\",\"Mar\",\"April\"])\n",
    "print(\"\\ns8 series :\\n\", s8)\n",
    "print(\"\\nValue at s8.April : \", s8.April)\n",
    "s8.__getitem__\n"
   ]
  },
  {
   "cell_type": "code",
   "execution_count": 10,
   "metadata": {},
   "outputs": [
    {
     "name": "stdout",
     "output_type": "stream",
     "text": [
      "1      Ram\n",
      "2    Shyam\n",
      "3    Arpan\n",
      "dtype: object\n",
      "\n",
      "2    Shyam\n",
      "3    Arpan\n",
      "dtype: object\n"
     ]
    }
   ],
   "source": [
    "print(s3)\n",
    "print()\n",
    "print(s3[1:3])"
   ]
  },
  {
   "cell_type": "markdown",
   "metadata": {},
   "source": [
    "## Slicing"
   ]
  },
  {
   "cell_type": "code",
   "execution_count": 11,
   "metadata": {},
   "outputs": [
    {
     "name": "stdout",
     "output_type": "stream",
     "text": [
      "Positional Access:\n",
      " USA       Washington DC\n",
      "UK               London\n",
      "France            Paris\n",
      "dtype: object\n",
      "\n",
      "Labelled Access:\n",
      " USA       Washington DC\n",
      "UK               London\n",
      "France            Paris\n",
      "dtype: object\n"
     ]
    }
   ],
   "source": [
    "s9 = pd.Series([\"New Delhi\", \"Washington DC\", \"London\", \"Paris\"],index=[\"India\",\"USA\",\"UK\",\"France\"])\n",
    "s9\n",
    "print(\"Positional Access:\\n\",s9[1:4])\n",
    "print()\n",
    "print(\"Labelled Access:\\n\",s9[\"USA\":\"France\"])"
   ]
  },
  {
   "cell_type": "code",
   "execution_count": 12,
   "metadata": {},
   "outputs": [
    {
     "data": {
      "text/plain": [
       "France            Paris\n",
       "UK               London\n",
       "USA       Washington DC\n",
       "India         New Delhi\n",
       "dtype: object"
      ]
     },
     "execution_count": 12,
     "metadata": {},
     "output_type": "execute_result"
    }
   ],
   "source": [
    "s9[::-1]"
   ]
  },
  {
   "cell_type": "code",
   "execution_count": 13,
   "metadata": {},
   "outputs": [
    {
     "name": "stdout",
     "output_type": "stream",
     "text": [
      "0    10\n",
      "1    12\n",
      "2    14\n",
      "3    16\n",
      "4    18\n",
      "dtype: int64\n",
      "a    10\n",
      "b    12\n",
      "c    14\n",
      "d    16\n",
      "e    18\n",
      "dtype: int64\n"
     ]
    }
   ],
   "source": [
    "import numpy as np\n",
    "series = pd.Series(np.arange(10,20,2))\n",
    "print(series)\n",
    "series11 = pd.Series(np.arange(10,20,2),index=[\"a\",\"b\",\"c\",\"d\",\"e\"])\n",
    "print(series11)"
   ]
  },
  {
   "cell_type": "code",
   "execution_count": 14,
   "metadata": {},
   "outputs": [
    {
     "data": {
      "text/plain": [
       "20    10\n",
       "22    12\n",
       "24    14\n",
       "26    16\n",
       "28    18\n",
       "dtype: int64"
      ]
     },
     "execution_count": 14,
     "metadata": {},
     "output_type": "execute_result"
    }
   ],
   "source": [
    "s10 = pd.Series(np.arange(10,20,2), index=np.arange(20,30,2))\n",
    "s10"
   ]
  },
  {
   "cell_type": "code",
   "execution_count": 15,
   "metadata": {},
   "outputs": [
    {
     "name": "stdout",
     "output_type": "stream",
     "text": [
      "0    10\n",
      "1    12\n",
      "2    14\n",
      "3    16\n",
      "4    18\n",
      "dtype: int64\n",
      "0     10\n",
      "1    350\n",
      "2    350\n",
      "3     16\n",
      "4     18\n",
      "dtype: int64\n"
     ]
    }
   ],
   "source": [
    "print(series)\n",
    "series[1:3] = 350\n",
    "print(series)"
   ]
  },
  {
   "cell_type": "code",
   "execution_count": 16,
   "metadata": {},
   "outputs": [
    {
     "name": "stdout",
     "output_type": "stream",
     "text": [
      "0     10\n",
      "1    350\n",
      "2    350\n",
      "3     16\n",
      "4     18\n",
      "Name: capitals, dtype: int64\n"
     ]
    },
    {
     "data": {
      "text/plain": [
       "India             New Delhi\n",
       "Sri Lanka           Columbo\n",
       "Bangladesh            Dhaka\n",
       "Japan                 Tokyo\n",
       "USA           Washington DC\n",
       "Name: capitals, dtype: object"
      ]
     },
     "execution_count": 16,
     "metadata": {},
     "output_type": "execute_result"
    }
   ],
   "source": [
    "series.name = \"capitals\" \n",
    "print(series)\n",
    "\n",
    "newDict = pd.Series(dict1, name=\"capitals\")\n",
    "newDict"
   ]
  },
  {
   "cell_type": "code",
   "execution_count": 33,
   "metadata": {},
   "outputs": [
    {
     "name": "stdout",
     "output_type": "stream",
     "text": [
      "['New Delhi' 'Columbo' 'Dhaka' 'Tokyo' 'Washington DC']\n",
      "False\n",
      "False\n"
     ]
    }
   ],
   "source": [
    "newestDict = pd.Series(dict1)\n",
    "newestDict.index.name = \"country\"\n",
    "print(newestDict.values)\n",
    "print(newestDict.empty)\n",
    "\n",
    "newestDict[\"Pakistan\"] =  \"\"\n",
    "newestDict[\"Afghanistan\"] =  \"\"\n",
    "newestDict\n",
    "print(newestDict.empty)\n"
   ]
  },
  {
   "cell_type": "code",
   "execution_count": 46,
   "metadata": {},
   "outputs": [
    {
     "name": "stdout",
     "output_type": "stream",
     "text": [
      "0    10\n",
      "1    11\n",
      "2    12\n",
      "3    13\n",
      "4    14\n",
      "5    15\n",
      "6    16\n",
      "7    17\n",
      "8    18\n",
      "9    19\n",
      "dtype: int64\n",
      "0    10\n",
      "1    11\n",
      "2    12\n",
      "3    13\n",
      "4    14\n",
      "dtype: int64\n",
      "0    10\n",
      "1    11\n",
      "2    12\n",
      "3    13\n",
      "4    14\n",
      "5    15\n",
      "6    16\n",
      "7    17\n",
      "8    18\n",
      "9    19\n",
      "dtype: int64\n"
     ]
    }
   ],
   "source": [
    "s11 = pd.Series(np.arange(10,20,1))\n",
    "print(s11)\n",
    "print(s11.head()) # first 5 rows\n",
    "print(s11.head(10)) # first 10 rows"
   ]
  },
  {
   "cell_type": "code",
   "execution_count": 50,
   "metadata": {},
   "outputs": [
    {
     "name": "stdout",
     "output_type": "stream",
     "text": [
      "10\n",
      "\n",
      "last 5 values : \n",
      " 5    15\n",
      "6    16\n",
      "7    17\n",
      "8    18\n",
      "9    19\n",
      "dtype: int64\n"
     ]
    }
   ],
   "source": [
    "print(s11.count())      # Total elements\n",
    "print(\"\\nlast 5 values : \\n\", s11.tail())"
   ]
  },
  {
   "cell_type": "code",
   "execution_count": 56,
   "metadata": {},
   "outputs": [
    {
     "name": "stdout",
     "output_type": "stream",
     "text": [
      "3\n"
     ]
    }
   ],
   "source": [
    "new = pd.Series([10,'',20])\n",
    "print(new.count())"
   ]
  },
  {
   "cell_type": "code",
   "execution_count": 65,
   "metadata": {},
   "outputs": [
    {
     "name": "stdout",
     "output_type": "stream",
     "text": [
      "a    1\n",
      "b    2\n",
      "c    3\n",
      "d    4\n",
      "e    5\n",
      "dtype: int64\n",
      "z    10\n",
      "v    20\n",
      "a    -3\n",
      "c    -4\n",
      "e    -5\n",
      "dtype: int64\n",
      "a   -2.0\n",
      "b    NaN\n",
      "c   -1.0\n",
      "d    NaN\n",
      "e    0.0\n",
      "v    NaN\n",
      "z    NaN\n",
      "dtype: float64\n"
     ]
    }
   ],
   "source": [
    "s12 = pd.Series([1,2,3,4,5],index=[\"a\",\"b\",\"c\",\"d\",\"e\"])\n",
    "s13 = pd.Series([10,20,-3,-4,-5],index=[\"z\",\"v\",\"a\",\"c\",\"e\"])\n",
    "print(s12)\n",
    "print(s13)\n",
    "print(s12 + s13)"
   ]
  },
  {
   "cell_type": "code",
   "execution_count": null,
   "metadata": {},
   "outputs": [
    {
     "data": {
      "text/plain": [
       "a    1\n",
       "b    2\n",
       "c    3\n",
       "d    4\n",
       "e    5\n",
       "dtype: int64"
      ]
     },
     "execution_count": 67,
     "metadata": {},
     "output_type": "execute_result"
    }
   ],
   "source": [
    "s12.add(s13, fill_value=0) # remove NaN values\n",
    "s12"
   ]
  },
  {
   "cell_type": "code",
   "execution_count": 72,
   "metadata": {},
   "outputs": [
    {
     "name": "stdout",
     "output_type": "stream",
     "text": [
      "Series([], dtype: object)\n"
     ]
    },
    {
     "data": {
      "text/plain": [
       "True"
      ]
     },
     "execution_count": 72,
     "metadata": {},
     "output_type": "execute_result"
    }
   ],
   "source": [
    "s13 = pd.Series()\n",
    "print(s13)\n",
    "s13.empty"
   ]
  }
 ],
 "metadata": {
  "kernelspec": {
   "display_name": "Python 3",
   "language": "python",
   "name": "python3"
  },
  "language_info": {
   "codemirror_mode": {
    "name": "ipython",
    "version": 3
   },
   "file_extension": ".py",
   "mimetype": "text/x-python",
   "name": "python",
   "nbconvert_exporter": "python",
   "pygments_lexer": "ipython3",
   "version": "3.12.0"
  }
 },
 "nbformat": 4,
 "nbformat_minor": 2
}
